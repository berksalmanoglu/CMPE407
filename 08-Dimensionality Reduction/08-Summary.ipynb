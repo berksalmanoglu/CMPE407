{
 "cells": [
  {
   "cell_type": "markdown",
   "metadata": {},
   "source": [
    "# Brief Summary of when to use each Dimensionality Reduction Technique"
   ]
  },
  {
   "cell_type": "markdown",
   "metadata": {},
   "source": [
    "* **Missing Value Ratio:** If the dataset has too many missing values, we use this approach to reduce the number of variables. We can drop the variables having a large number of missing values in them\n",
    "* **Low Variance filter:** We apply this approach to identify and drop constant variables from the dataset. The target variable is not unduly affected by variables with low variance, and hence these variables can be safely dropped\n",
    "* **High Correlation filter:** A pair of variables having high correlation increases multicollinearity in the dataset. So, we can use this technique to find highly correlated features and drop them accordingly\n",
    "* **Random Forest:** This is one of the most commonly used techniques which tells us the importance of each feature present in the dataset. We can find the importance of each feature and keep the top most features, resulting in dimensionality reduction\n",
    "* Both **Backward Feature Elimination** and **Forward Feature Selection** techniques take a lot of computational time and are thus generally used on smaller datasets\n",
    "* **Factor Analysis:** This technique is best suited for situations where we have highly correlated set of variables. It divides the variables based on their correlation into different groups, and represents each group with a factor\n",
    "* **Principal Component Analysis:** This is one of the most widely used techniques for dealing with linear data. It divides the data into a set of components which try to explain as much variance as possible\n",
    "* **Independent Component Analysis:** We can use ICA to transform the data into independent components which describe the data using less number of components\n",
    "* **ISOMAP:** We use this technique when the data is strongly non-linear\n",
    "* **t-SNE:** This technique also works well when the data is strongly non-linear. It works extremely well for visualizations as well\n",
    "* **UMAP:** This technique works well for high dimensional data. Its run-time is shorter as compared to t-SNE\n",
    "\n",
    "source: https://www.analyticsvidhya.com/blog/2018/08/dimensionality-reduction-techniques-python/"
   ]
  }
 ],
 "metadata": {
  "kernelspec": {
   "display_name": "Python 3",
   "language": "python",
   "name": "python3"
  },
  "language_info": {
   "codemirror_mode": {
    "name": "ipython",
    "version": 3
   },
   "file_extension": ".py",
   "mimetype": "text/x-python",
   "name": "python",
   "nbconvert_exporter": "python",
   "pygments_lexer": "ipython3",
   "version": "3.6.8"
  }
 },
 "nbformat": 4,
 "nbformat_minor": 2
}
